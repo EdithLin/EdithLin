{
 "cells": [
  {
   "cell_type": "code",
   "execution_count": 2,
   "metadata": {},
   "outputs": [],
   "source": [
    "#-*- coding: utf-8 -*-\n",
    "import urllib #用來存取網頁\n",
    "import json\n",
    "import os\n",
    "\n",
    "from flask import Flask, request, make_response\n",
    "\n",
    "#Flask app should start in global layout\n",
    "app = Flask(__name__)\n",
    "\n",
    "@app.route(\"/\", methods = ['GET'])\n",
    "def hello():\n",
    "    return \"Hello World!\"\n",
    "@app.route(\"/webhook\", methods = ['POST'])\n",
    "\n",
    "def webhook():\n",
    "    req = request.get_json(silent=True, force=True)\n",
    "    print(\"Request:\")\n",
    "    print(json.dumps(req, indent = 4))\n",
    "    res = makeWebhookResult(req)\n",
    "    res = json.dumps(res, indent=4)\n",
    "    print(res)\n",
    "    r = make_response(res)\n",
    "    r.headers['Content-Type'] = 'application/json'\n",
    "    return r\n",
    "\n",
    "def makeWebhookResult(req):\n",
    "    #getInsurance的地方是Dialogflow> Intent> Action取名的內容\n",
    "    if req.get(\"result\").get(\"action\") != \"getInsurance\":\n",
    "        return{}\n",
    "    result = req.get(\"result\")\n",
    "    parameters = result.get(\"parameters\")\n",
    "    #parameters.get(\"Insurance\")的Insurnce是Dialogflow > Entitiy\n",
    "    #也就是步驟josn格式中parameters>Insurance\n",
    "    \n",
    "    zone = parameters.get(\"Insurance\")\n",
    "    #先設定一個回應\n",
    "    #如果是醫療,cost的位置就回應醫療保險\n",
    "    cost = {'醫療':'醫療保險', '意外':'意外險'}\n",
    "    \n",
    "    #speech就是回應的內容\n",
    "    speech = \"應該是\" + zone + \"is\" + str(cost[zone])\n",
    "    print(\"Response:\")\n",
    "    print(speech)\n",
    "    \n",
    "    #回傳\n",
    "    return{\n",
    "        \"speech\":speech,\n",
    "        \"displayText\":speech,\n",
    "        \"source\":\"agent\"\n",
    "    }\n",
    "\n",
    "    if __name__ == \"__main__\":\n",
    "        app.run(debug=True, port=80)"
   ]
  },
  {
   "cell_type": "code",
   "execution_count": null,
   "metadata": {},
   "outputs": [],
   "source": []
  }
 ],
 "metadata": {
  "kernelspec": {
   "display_name": "Python 3",
   "language": "python",
   "name": "python3"
  },
  "language_info": {
   "codemirror_mode": {
    "name": "ipython",
    "version": 3
   },
   "file_extension": ".py",
   "mimetype": "text/x-python",
   "name": "python",
   "nbconvert_exporter": "python",
   "pygments_lexer": "ipython3",
   "version": "3.7.1"
  }
 },
 "nbformat": 4,
 "nbformat_minor": 2
}
